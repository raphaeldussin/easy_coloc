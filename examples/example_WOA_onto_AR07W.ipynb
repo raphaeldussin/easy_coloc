{
 "cells": [
  {
   "cell_type": "code",
   "execution_count": null,
   "metadata": {},
   "outputs": [],
   "source": [
    "from easy_coloc import lib_easy_coloc\n",
    "import xarray as xr\n",
    "import pandas as pd\n",
    "import cartopy as cart\n",
    "import matplotlib.pylab as plt\n",
    "from matplotlib import cm"
   ]
  },
  {
   "cell_type": "code",
   "execution_count": null,
   "metadata": {},
   "outputs": [],
   "source": [
    "%matplotlib inline"
   ]
  },
  {
   "cell_type": "code",
   "execution_count": null,
   "metadata": {},
   "outputs": [],
   "source": [
    "# load stations information from csv file\n",
    "ar07w = pd.read_csv('../easy_coloc/test/test_files/AR07W_stations.txt',skipinitialspace=True)"
   ]
  },
  {
   "cell_type": "code",
   "execution_count": null,
   "metadata": {},
   "outputs": [],
   "source": [
    "# load gridded dataset\n",
    "ds = xr.open_dataset('../easy_coloc/test/test_files/woa_labrador.nc',decode_times=False)"
   ]
  },
  {
   "cell_type": "code",
   "execution_count": null,
   "metadata": {},
   "outputs": [],
   "source": [
    "# create source grid and target section objects\n",
    "# this requires lon,lat from stations and the source grid dataset containing lon,lat\n",
    "proj = lib_easy_coloc.projection(ar07w['lon'].values,ar07w['lat'].values,grid=ds,\n",
    "                                 from_global=False)"
   ]
  },
  {
   "cell_type": "code",
   "execution_count": null,
   "metadata": {},
   "outputs": [],
   "source": [
    "# run the projection on the WOA analyzed temperature (t_an)\n",
    "fld = proj.run(ds['t_an'][:])"
   ]
  },
  {
   "cell_type": "code",
   "execution_count": null,
   "metadata": {},
   "outputs": [],
   "source": [
    "# plot surface data\n",
    "plt.figure(figsize=[10,10])\n",
    "m = plt.axes(projection=cart.crs.PlateCarree())\n",
    "C = m.scatter(ar07w['lon'].values,ar07w['lat'].values,c=fld[0,0,:],cmap=cm.gist_ncar)\n",
    "plt.colorbar(C,shrink=0.5)\n",
    "m.coastlines()\n",
    "m.add_feature(cart.feature.LAND, facecolor='0.75')\n",
    "m.set_extent([-75, -35, 35, 65], crs=cart.crs.PlateCarree())\n",
    "gl = m.gridlines(draw_labels=True)"
   ]
  },
  {
   "cell_type": "code",
   "execution_count": null,
   "metadata": {},
   "outputs": [],
   "source": [
    "plt.figure(figsize=[10,10])\n",
    "plt.contourf(ar07w['lat'].values,-ds['depth'],fld[0,:,:],30,cmap=cm.gist_ncar)\n",
    "plt.colorbar()\n",
    "plt.title('WOA temperature at AR07W section')"
   ]
  },
  {
   "cell_type": "code",
   "execution_count": null,
   "metadata": {},
   "outputs": [],
   "source": []
  }
 ],
 "metadata": {
  "kernelspec": {
   "display_name": "Python 3",
   "language": "python",
   "name": "python3"
  },
  "language_info": {
   "codemirror_mode": {
    "name": "ipython",
    "version": 3
   },
   "file_extension": ".py",
   "mimetype": "text/x-python",
   "name": "python",
   "nbconvert_exporter": "python",
   "pygments_lexer": "ipython3",
   "version": "3.6.4"
  }
 },
 "nbformat": 4,
 "nbformat_minor": 2
}
